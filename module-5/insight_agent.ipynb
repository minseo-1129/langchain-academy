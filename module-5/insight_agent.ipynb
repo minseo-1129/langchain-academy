{
  "cells": [
    {
      "cell_type": "markdown",
      "metadata": {
        "id": "YKhQu8CEMNbz"
      },
      "source": [
        "# Memory Agent\n",
        "\n",
        "## Review\n",
        "\n",
        "We created a chatbot that saves semantic memories to a single [user profile](https://langchain-ai.github.io/langgraph/concepts/memory/#profile) or [collection](https://langchain-ai.github.io/langgraph/concepts/memory/#collection).\n",
        "\n",
        "We introduced [Trustcall](https://github.com/hinthornw/trustcall) as a way to update either schema.\n",
        "\n",
        "## Goals\n",
        "\n",
        "Now, we're going to pull together the pieces we've learned to build an [agent](https://langchain-ai.github.io/langgraph/concepts/agentic_concepts/) with long-term memory.\n",
        "\n",
        "Our agent, `task_mAIstro`, will help us manage a ToDo list!\n",
        "\n",
        "The chatbots we built previously *always* reflected on the conversation and saved memories.\n",
        "\n",
        "`task_mAIstro` will decide *when* to save memories (items to our ToDo list).\n",
        "\n",
        "The chatbots we built previously always saved one type of memory, a profile or a collection.\n",
        "\n",
        "`task_mAIstro` can decide to save to either a user profile or a collection of ToDo items.\n",
        "\n",
        "In addition semantic memory, `task_mAIstro` also will manage procedural memory.\n",
        "\n",
        "This allows the user to update their preferences for creating ToDo items."
      ]
    },
    {
      "cell_type": "code",
      "execution_count": 2,
      "metadata": {
        "id": "8pu1YqIQMNb1"
      },
      "outputs": [],
      "source": [
        "%%capture --no-stderr\n",
        "%pip install -U langchain_openai langgraph trustcall langchain_core"
      ]
    },
    {
      "cell_type": "code",
      "execution_count": 3,
      "metadata": {
        "colab": {
          "base_uri": "https://localhost:8080/"
        },
        "id": "ifuvdbhMMNb3",
        "outputId": "f0835387-718e-4002-b299-1cfa72de6dfb"
      },
      "outputs": [
        {
          "name": "stdout",
          "output_type": "stream",
          "text": [
            "LANGSMITH_API_KEY: ··········\n"
          ]
        }
      ],
      "source": [
        "import os, getpass\n",
        "\n",
        "def _set_env(var: str):\n",
        "    # Check if the variable is set in the OS environment\n",
        "    env_value = os.environ.get(var)\n",
        "    if not env_value:\n",
        "        # If not set, prompt the user for input\n",
        "        env_value = getpass.getpass(f\"{var}: \")\n",
        "\n",
        "    # Set the environment variable for the current process\n",
        "    os.environ[var] = env_value\n",
        "\n",
        "_set_env(\"LANGSMITH_API_KEY\")\n",
        "os.environ[\"LANGSMITH_TRACING\"] = \"true\"\n",
        "os.environ[\"LANGSMITH_PROJECT\"] = \"langchain-academy\""
      ]
    },
    {
      "cell_type": "markdown",
      "metadata": {
        "id": "3Eb7YYeOMNb8"
      },
      "source": [
        "## Creating an agent\n",
        "\n",
        "There are many different [agent](https://langchain-ai.github.io/langgraph/concepts/high_level/) architectures to choose from.\n",
        "\n",
        "Here, we'll implement something simple, a [ReAct](https://langchain-ai.github.io/langgraph/concepts/agentic_concepts/#react-implementation) agent.\n",
        "\n",
        "This agent will be a helpful companion for creating and managing a ToDo list.\n",
        "\n",
        "This agent can make a decision to update three types of long-term memory:\n",
        "\n",
        "(a) Create or update a user `profile` with general user information\n",
        "\n",
        "(b) Add or update items in a ToDo list `collection`\n",
        "\n",
        "(c) Update its own `instructions` on how to update items to the ToDo list"
      ]
    },
    {
      "cell_type": "code",
      "execution_count": 5,
      "metadata": {
        "colab": {
          "base_uri": "https://localhost:8080/"
        },
        "id": "DU6Op5dJMNb8",
        "outputId": "75a0a8b2-134e-4ec3-f718-a9ea15e06288"
      },
      "outputs": [
        {
          "name": "stdout",
          "output_type": "stream",
          "text": [
            "OPENAI_API_KEY: ··········\n"
          ]
        }
      ],
      "source": [
        "_set_env(\"OPENAI_API_KEY\")"
      ]
    },
    {
      "cell_type": "markdown",
      "metadata": {
        "id": "RleUYjLbMNb8"
      },
      "source": [
        "## Graph definition\n",
        "\n",
        "We add a simple router, `route_message`, that makes a binary decision to save memories.\n",
        "\n",
        "The memory collection updating is handled by `Trustcall` in the `write_memory` node, as before!"
      ]
    },
    {
      "cell_type": "code",
      "execution_count": 6,
      "metadata": {
        "colab": {
          "base_uri": "https://localhost:8080/",
          "height": 283
        },
        "id": "zHA-6pIQMNb8",
        "outputId": "a4b79748-3de4-487d-e10c-4e06a8465f3d"
      },
      "outputs": [
        {
          "name": "stdout",
          "output_type": "stream",
          "text": [
            "🧠 Personal Insight Generator Ready!\n"
          ]
        },
        {
          "data": {
            "image/png": "[encoded data removed]",
            "text/plain": [
              "<IPython.core.display.Image object>"
            ]
          },
          "metadata": {},
          "output_type": "display_data"
        }
      ],
      "source": [
        "import uuid\n",
        "from IPython.display import Image, display\n",
        "\n",
        "from datetime import datetime\n",
        "from trustcall import create_extractor\n",
        "from typing import Optional\n",
        "from pydantic import BaseModel, Field\n",
        "\n",
        "from langchain_core.runnables import RunnableConfig\n",
        "from langchain_core.messages import merge_message_runs, HumanMessage, SystemMessage\n",
        "\n",
        "from langgraph.checkpoint.memory import MemorySaver\n",
        "from langgraph.graph import StateGraph, MessagesState, END, START\n",
        "from langgraph.store.base import BaseStore\n",
        "from langgraph.store.memory import InMemoryStore\n",
        "\n",
        "from langchain_openai import ChatOpenAI\n",
        "\n",
        "# Initialize the model\n",
        "model = ChatOpenAI(model=\"gpt-4o\", temperature=0)\n",
        "\n",
        "# User profile schema\n",
        "class Profile(BaseModel):\n",
        "    \"\"\"This is the profile of the user you are chatting with\"\"\"\n",
        "    name: Optional[str] = Field(description=\"The user's name\", default=None)\n",
        "    location: Optional[str] = Field(description=\"The user's location\", default=None)\n",
        "    age: Optional[str] = Field(description=\"The user's age group\", default=None)\n",
        "    connections: list[str] = Field(\n",
        "        description=\"Personal connection of the user, such as family members, friends, or coworkers\",\n",
        "        default_factory=list\n",
        "    )\n",
        "    interests: list[str] = Field(\n",
        "        description=\"Interests and hobbies that the user has\",\n",
        "        default_factory=list\n",
        "    )\n",
        "    goals: list[str] = Field(\n",
        "        description=\"Goals and aspirations that the user has\",\n",
        "        default_factory=list\n",
        "    )\n",
        "    preferences: list[str] = Field(\n",
        "        description=\"Preferences that the user has\",\n",
        "        default_factory=list\n",
        "    )\n",
        "    notes: Optional[str] = Field(description=\"Notes about the user\", default=None)\n",
        "\n",
        "# Personal Insight schema\n",
        "class PersonalInsight(BaseModel):\n",
        "    \"\"\"Hidden patterns or traits discovered about the user\"\"\"\n",
        "    insight: str = Field(description=\"The discovered insight about user's personality, preferences, or patterns\")\n",
        "    evidence: list[str] = Field(\n",
        "        description=\"When the task needs to be completed by (if applicable)\",\n",
        "        default=None\n",
        "    )\n",
        "    confidence: float = Field(description=\"Confidence level (0.0-1.0)\", default=0.8)\n",
        "    confirmed: bool = Field(description=\"Whether user has confirmed this insight\", default=False)\n",
        "    discovered_date: datetime = Field(default_factory=datetime.now)\n",
        "    category: str = Field(description=\"Type of insight (e.g., 'personality', 'social', 'emotional', 'behavioral')\")\n",
        "\n",
        "# UpdateMemory tool\n",
        "class UpdateMemory(BaseModel):\n",
        "    update_type: Literal[\"user\", \"insight\"] = Field(description=\"Type of memory to update\")\n",
        "\n",
        "# Create the Trustcall extractor for updating the user profile\n",
        "profile_extractor = create_extractor(\n",
        "    model,\n",
        "    tools=[Profile],\n",
        "    tool_choice=\"Profile\",\n",
        ")\n",
        "\n",
        "# Chatbot instruction for Insight Generator\n",
        "MODEL_SYSTEM_MESSAGE = \"\"\"You are a thoughtful companion who helps young people discover insights about themselves.\n",
        "\n",
        "Your role is to:\n",
        "1. Listen carefully to what they share about their experiences\n",
        "2. Notice patterns in their behavior, preferences, and reactions\n",
        "3. Gently suggest insights about their personality or tendencies\n",
        "4. Ask for their confirmation before saving insights\n",
        "5. Help them understand themselves better\n",
        "\n",
        "Here is the current User Profile (may be empty if no information has been collected yet):\n",
        "<user_profile>\n",
        "{user_profile}\n",
        "</user_profile>\n",
        "\n",
        "Here is the current Insight List (may be empty if no tasks have been added yet):\n",
        "<insights>\n",
        "{insights}\n",
        "</insights>\n",
        "\n",
        "Here are your instructions for reasoning about the user's messages:\n",
        "Guidelines:\n",
        "- Be gentle and supportive when suggesting insights\n",
        "- Always ask \"Does that sound right to you?\" before assuming an insight is correct\n",
        "- Look for patterns in their stories and experiences\n",
        "- Focus on positive traits and growth opportunities\n",
        "- Only save insights after they confirm them\n",
        "- Be curious and encouraging\n",
        "\n",
        "When you notice:\n",
        "- New personal information → call UpdateMemory with type \"user\"\n",
        "- User confirms an insight → call UpdateMemory with type \"insight\"\n",
        "\n",
        "Example approach:\n",
        "\"I've noticed you seem to really enjoy activities where you can be creative and express yourself. Does that sound right to you?\"\n",
        "\n",
        "Respond naturally and supportively after updating memories.\"\"\"\n",
        "\n",
        "# Trustcall instruction\n",
        "TRUSTCALL_INSTRUCTION = \"\"\"Reflect on the following interaction.\n",
        "\n",
        "Use the provided tools to retain any necessary memories about the user.\n",
        "\n",
        "Focus on:\n",
        "- Personal information and patterns\n",
        "- Confirmed insights about their personality or behavior\n",
        "- Evidence supporting these insights\n",
        "\n",
        "Only save insights that the user has explicitly confirmed.\n",
        "\n",
        "System Time: {time}\"\"\"\n",
        "\n",
        "# Summary generation functions\n",
        "def generate_profile_summary(new_data):\n",
        "    \"\"\"Generate friendly summary of profile updates\"\"\"\n",
        "    summary = \"📝 **I've learned more about you!**\\n\\n\"\n",
        "\n",
        "    if new_data.get('interests'):\n",
        "        summary += f\"🎯 Interests: {', '.join(new_data['interests'])}\\n\"\n",
        "\n",
        "    if new_data.get('connections'):\n",
        "        summary += f\"👥 People in your life: {', '.join(new_data['connections'])}\\n\"\n",
        "\n",
        "    if new_data.get('mood_patterns'):\n",
        "        summary += f\"💭 Mood patterns: {', '.join(new_data['mood_patterns'])}\\n\"\n",
        "\n",
        "    summary += \"\\nThis helps me understand you better and notice meaningful patterns! ✨\"\n",
        "    return summary\n",
        "\n",
        "def generate_insight_summary(insights_data):\n",
        "    \"\"\"Generate friendly summary of insight updates\"\"\"\n",
        "    summary = \"💡 **New Insight Saved!**\\n\\n\"\n",
        "\n",
        "    for insight in insights_data:\n",
        "        insight_text = insight.get('insight', 'Unknown insight')\n",
        "        category = insight.get('category', 'general')\n",
        "        evidence = insight.get('evidence', [])\n",
        "\n",
        "        summary += f\"🔍 **{category.title()} Insight**: {insight_text}\\n\"\n",
        "\n",
        "        if evidence:\n",
        "            summary += f\"📋 **Based on**: {', '.join(evidence[:3])}\\n\"  # Show first 3 pieces of evidence\n",
        "\n",
        "        summary += f\"✅ **Confirmed by you**\\n\\n\"\n",
        "\n",
        "    summary += \"These insights help you understand yourself better! 🌟\"\n",
        "    return summary\n",
        "\n",
        "# Node definitions\n",
        "def insight_companion(state: MessagesState, config: RunnableConfig, store: BaseStore):\n",
        "    \"\"\"Main chatbot node for insight generation\"\"\"\n",
        "\n",
        "    user_id = config[\"configurable\"][\"user_id\"]\n",
        "\n",
        "    # Retrieve profile\n",
        "    namespace = (\"profile\", user_id)\n",
        "    memories = store.search(namespace)\n",
        "    user_profile = memories[0].value if memories else None\n",
        "\n",
        "    # Retrieve insights\n",
        "    namespace = (\"insights\", user_id)\n",
        "    memories = store.search(namespace)\n",
        "    insights = \"\\n\".join(f\"- {mem.value}\" for mem in memories)\n",
        "\n",
        "    system_msg = MODEL_SYSTEM_MESSAGE.format(\n",
        "        user_profile=user_profile,\n",
        "        insights=insights\n",
        "    )\n",
        "\n",
        "    response = model.bind_tools([UpdateMemory], parallel_tool_calls=False).invoke(\n",
        "        [SystemMessage(content=system_msg)] + state[\"messages\"]\n",
        "    )\n",
        "\n",
        "    return {\"messages\": [response]}\n",
        "\n",
        "def update_profile(state: MessagesState, config: RunnableConfig, store: BaseStore):\n",
        "    \"\"\"Update user profile and provide summary\"\"\"\n",
        "\n",
        "    user_id = config[\"configurable\"][\"user_id\"]\n",
        "    namespace = (\"profile\", user_id)\n",
        "\n",
        "    existing_items = store.search(namespace)\n",
        "    existing_memories = ([(existing_item.key, \"Profile\", existing_item.value)\n",
        "                          for existing_item in existing_items]\n",
        "                          if existing_items else None)\n",
        "\n",
        "    TRUSTCALL_INSTRUCTION_FORMATTED = TRUSTCALL_INSTRUCTION.format(time=datetime.now().isoformat())\n",
        "    updated_messages = list(merge_message_runs(\n",
        "        messages=[SystemMessage(content=TRUSTCALL_INSTRUCTION_FORMATTED)] + state[\"messages\"][:-1]\n",
        "    ))\n",
        "\n",
        "    result = profile_extractor.invoke({\n",
        "        \"messages\": updated_messages,\n",
        "        \"existing\": existing_memories\n",
        "    })\n",
        "\n",
        "    # Save and generate summary\n",
        "    new_data = {}\n",
        "    for r, rmeta in zip(result[\"responses\"], result[\"response_metadata\"]):\n",
        "        new_data = r.model_dump(mode=\"json\")\n",
        "        store.put(namespace,\n",
        "                  rmeta.get(\"json_doc_id\", str(uuid.uuid4())),\n",
        "                  new_data)\n",
        "\n",
        "    summary = generate_profile_summary(new_data)\n",
        "\n",
        "    tool_calls = state['messages'][-1].tool_calls\n",
        "    return {\"messages\": [{\"role\": \"tool\", \"content\": summary, \"tool_call_id\": tool_calls[0]['id']}]}\n",
        "\n",
        "def update_insights(state: MessagesState, config: RunnableConfig, store: BaseStore):\n",
        "    \"\"\"Update personal insights and provide summary\"\"\"\n",
        "\n",
        "    user_id = config[\"configurable\"][\"user_id\"]\n",
        "    namespace = (\"insights\", user_id)\n",
        "\n",
        "    existing_items = store.search(namespace)\n",
        "    existing_memories = ([(existing_item.key, \"PersonalInsight\", existing_item.value)\n",
        "                          for existing_item in existing_items]\n",
        "                          if existing_items else None)\n",
        "\n",
        "    TRUSTCALL_INSTRUCTION_FORMATTED = TRUSTCALL_INSTRUCTION.format(time=datetime.now().isoformat())\n",
        "    updated_messages = list(merge_message_runs(\n",
        "        messages=[SystemMessage(content=TRUSTCALL_INSTRUCTION_FORMATTED)] + state[\"messages\"][:-1]\n",
        "    ))\n",
        "\n",
        "    insight_extractor = create_extractor(\n",
        "        model,\n",
        "        tools=[PersonalInsight],\n",
        "        tool_choice=\"PersonalInsight\",\n",
        "        enable_inserts=True\n",
        "    )\n",
        "\n",
        "    result = insight_extractor.invoke({\n",
        "        \"messages\": updated_messages,\n",
        "        \"existing\": existing_memories\n",
        "    })\n",
        "\n",
        "    # Save and generate summary\n",
        "    insights_data = []\n",
        "    for r, rmeta in zip(result[\"responses\"], result[\"response_metadata\"]):\n",
        "        insight_data = r.model_dump(mode=\"json\")\n",
        "        insight_data[\"confirmed\"] = True  # Only save confirmed insights\n",
        "        insights_data.append(insight_data)\n",
        "        store.put(namespace,\n",
        "                  rmeta.get(\"json_doc_id\", str(uuid.uuid4())),\n",
        "                  insight_data)\n",
        "\n",
        "    summary = generate_insight_summary(insights_data)\n",
        "\n",
        "    tool_calls = state['messages'][-1].tool_calls\n",
        "    return {\"messages\": [{\"role\": \"tool\", \"content\": summary, \"tool_call_id\": tool_calls[0]['id']}]}\n",
        "\n",
        "# Routing function\n",
        "def route_message(state: MessagesState, config: RunnableConfig, store: BaseStore) -> Literal[END, \"update_insights\", \"update_profile\"]:\n",
        "    \"\"\"Route to appropriate update function\"\"\"\n",
        "    message = state['messages'][-1]\n",
        "    if len(message.tool_calls) == 0:\n",
        "        return END\n",
        "    else:\n",
        "        tool_call = message.tool_calls[0]\n",
        "        if tool_call['args']['update_type'] == \"user\":\n",
        "            return \"update_profile\"\n",
        "        elif tool_call['args']['update_type'] == \"insight\":\n",
        "            return \"update_insights\"\n",
        "        else:\n",
        "            raise ValueError\n",
        "\n",
        "# Build graph\n",
        "builder = StateGraph(MessagesState)\n",
        "builder.add_node(\"insight_companion\", insight_companion)\n",
        "builder.add_node(\"update_insights\", update_insights)\n",
        "builder.add_node(\"update_profile\", update_profile)\n",
        "builder.add_edge(START, \"insight_companion\")\n",
        "builder.add_conditional_edges(\"insight_companion\", route_message)\n",
        "builder.add_edge(\"update_insights\", \"insight_companion\")\n",
        "builder.add_edge(\"update_profile\", \"insight_companion\")\n",
        "\n",
        "# Compile graph\n",
        "across_thread_memory = InMemoryStore()\n",
        "within_thread_memory = MemorySaver()\n",
        "insight_generator_graph = builder.compile(checkpointer=within_thread_memory, store=across_thread_memory)\n",
        "\n",
        "print(\"🧠 Personal Insight Generator Ready!\")\n",
        "display(Image(insight_generator_graph.get_graph(xray=1).draw_mermaid_png()))"
      ]
    },
    {
      "cell_type": "code",
      "execution_count": 9,
      "metadata": {
        "colab": {
          "base_uri": "https://localhost:8080/"
        },
        "id": "Fk5Ny3yIiP9p",
        "outputId": "5c2a6be7-6d8e-4b81-a0b0-eca39ec21fc3"
      },
      "outputs": [
        {
          "name": "stdout",
          "output_type": "stream",
          "text": [
            "{'insight_companion': {'messages': [AIMessage(content='It sounds like you might gain energy from being around others, which is a common trait of extroversion. Does that sound right to you?', additional_kwargs={'refusal': None}, response_metadata={'token_usage': {'completion_tokens': 30, 'prompt_tokens': 335, 'total_tokens': 365, 'completion_tokens_details': {'accepted_prediction_tokens': 0, 'audio_tokens': 0, 'reasoning_tokens': 0, 'rejected_prediction_tokens': 0}, 'prompt_tokens_details': {'audio_tokens': 0, 'cached_tokens': 0}}, 'model_name': 'gpt-4o-2024-08-06', 'system_fingerprint': 'fp_a288987b44', 'id': 'chatcmpl-Bs7WOI2jSyx9JHbS1mPCN9YN9D0yc', 'service_tier': 'default', 'finish_reason': 'stop', 'logprobs': None}, id='run--9b0c8250-f515-4a5f-bca5-fe816db57a9e-0', usage_metadata={'input_tokens': 335, 'output_tokens': 30, 'total_tokens': 365, 'input_token_details': {'audio': 0, 'cache_read': 0}, 'output_token_details': {'audio': 0, 'reasoning': 0}})]}}\n"
          ]
        }
      ],
      "source": [
        "# Test the insight system\n",
        "config = {\"configurable\": {\"user_id\": \"test_user_2\", \"thread_id\": \"test_thread_1\"}}\n",
        "\n",
        "for chunk in insight_generator_graph.stream(\n",
        "    {\"messages\": [HumanMessage(content=\"I always feel more energized when I'm around people rather than alone\")]},\n",
        "    config=config\n",
        "):\n",
        "    print(chunk)"
      ]
    },
    {
      "cell_type": "markdown",
      "metadata": {
        "id": "9K7ZX06UMNb-"
      },
      "source": [
        "We can see that Trustcall performs patching of the existing memory:\n",
        "\n",
        "https://smith.langchain.com/public/4ad3a8af-3b1e-493d-b163-3111aa3d575a/r"
      ]
    },
    {
      "cell_type": "markdown",
      "metadata": {
        "id": "b1PiHwfNMNb_"
      },
      "source": [
        "Trace:\n",
        "\n",
        "https://smith.langchain.com/public/84768705-be91-43e4-8a6f-f9d3cee93782/r"
      ]
    }
  ],
  "metadata": {
    "colab": {
      "provenance": []
    },
    "kernelspec": {
      "display_name": "Python 3 (ipykernel)",
      "language": "python",
      "name": "python3"
    },
    "language_info": {
      "codemirror_mode": {
        "name": "ipython",
        "version": 3
      },
      "file_extension": ".py",
      "mimetype": "text/x-python",
      "name": "python",
      "nbconvert_exporter": "python",
      "pygments_lexer": "ipython3",
      "version": "3.11.8"
    }
  },
  "nbformat": 4,
  "nbformat_minor": 0
}
